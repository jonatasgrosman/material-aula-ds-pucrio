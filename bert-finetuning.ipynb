{
 "cells": [
  {
   "cell_type": "code",
   "execution_count": 1,
   "metadata": {},
   "outputs": [
    {
     "name": "stdout",
     "output_type": "stream",
     "text": [
      "Requirement already satisfied: transformers[torch] in ./venv/lib/python3.9/site-packages (4.30.2)\n",
      "Requirement already satisfied: datasets in ./venv/lib/python3.9/site-packages (2.13.1)\n",
      "Requirement already satisfied: evaluate in ./venv/lib/python3.9/site-packages (0.4.0)\n",
      "Requirement already satisfied: scikit-learn in ./venv/lib/python3.9/site-packages (1.2.2)\n",
      "Requirement already satisfied: matplotlib in ./venv/lib/python3.9/site-packages (3.7.1)\n",
      "Requirement already satisfied: tokenizers!=0.11.3,<0.14,>=0.11.1 in ./venv/lib/python3.9/site-packages (from transformers[torch]) (0.13.3)\n",
      "Requirement already satisfied: pyyaml>=5.1 in ./venv/lib/python3.9/site-packages (from transformers[torch]) (6.0)\n",
      "Requirement already satisfied: numpy>=1.17 in ./venv/lib/python3.9/site-packages (from transformers[torch]) (1.24.1)\n",
      "Requirement already satisfied: tqdm>=4.27 in ./venv/lib/python3.9/site-packages (from transformers[torch]) (4.65.0)\n",
      "Requirement already satisfied: filelock in ./venv/lib/python3.9/site-packages (from transformers[torch]) (3.9.0)\n",
      "Requirement already satisfied: packaging>=20.0 in ./venv/lib/python3.9/site-packages (from transformers[torch]) (23.1)\n",
      "Requirement already satisfied: regex!=2019.12.17 in ./venv/lib/python3.9/site-packages (from transformers[torch]) (2023.6.3)\n",
      "Requirement already satisfied: safetensors>=0.3.1 in ./venv/lib/python3.9/site-packages (from transformers[torch]) (0.3.1)\n",
      "Requirement already satisfied: huggingface-hub<1.0,>=0.14.1 in ./venv/lib/python3.9/site-packages (from transformers[torch]) (0.15.1)\n",
      "Requirement already satisfied: requests in ./venv/lib/python3.9/site-packages (from transformers[torch]) (2.28.1)\n",
      "Requirement already satisfied: accelerate>=0.20.2; extra == \"torch\" in ./venv/lib/python3.9/site-packages (from transformers[torch]) (0.20.3)\n",
      "Requirement already satisfied: torch!=1.12.0,>=1.9; extra == \"torch\" in ./venv/lib/python3.9/site-packages (from transformers[torch]) (2.0.0+cu118)\n",
      "Requirement already satisfied: xxhash in ./venv/lib/python3.9/site-packages (from datasets) (3.2.0)\n",
      "Requirement already satisfied: fsspec[http]>=2021.11.1 in ./venv/lib/python3.9/site-packages (from datasets) (2023.6.0)\n",
      "Requirement already satisfied: pyarrow>=8.0.0 in ./venv/lib/python3.9/site-packages (from datasets) (12.0.1)\n",
      "Requirement already satisfied: multiprocess in ./venv/lib/python3.9/site-packages (from datasets) (0.70.14)\n",
      "Requirement already satisfied: pandas in ./venv/lib/python3.9/site-packages (from datasets) (2.0.2)\n",
      "Requirement already satisfied: dill<0.3.7,>=0.3.0 in ./venv/lib/python3.9/site-packages (from datasets) (0.3.6)\n",
      "Requirement already satisfied: aiohttp in ./venv/lib/python3.9/site-packages (from datasets) (3.8.4)\n",
      "Requirement already satisfied: responses<0.19 in ./venv/lib/python3.9/site-packages (from evaluate) (0.18.0)\n",
      "Requirement already satisfied: threadpoolctl>=2.0.0 in ./venv/lib/python3.9/site-packages (from scikit-learn) (3.1.0)\n",
      "Requirement already satisfied: joblib>=1.1.1 in ./venv/lib/python3.9/site-packages (from scikit-learn) (1.3.0)\n",
      "Requirement already satisfied: scipy>=1.3.2 in ./venv/lib/python3.9/site-packages (from scikit-learn) (1.11.0)\n",
      "Requirement already satisfied: python-dateutil>=2.7 in ./venv/lib/python3.9/site-packages (from matplotlib) (2.8.2)\n",
      "Requirement already satisfied: fonttools>=4.22.0 in ./venv/lib/python3.9/site-packages (from matplotlib) (4.40.0)\n",
      "Requirement already satisfied: contourpy>=1.0.1 in ./venv/lib/python3.9/site-packages (from matplotlib) (1.1.0)\n",
      "Requirement already satisfied: pillow>=6.2.0 in ./venv/lib/python3.9/site-packages (from matplotlib) (9.3.0)\n",
      "Requirement already satisfied: pyparsing>=2.3.1 in ./venv/lib/python3.9/site-packages (from matplotlib) (3.1.0)\n",
      "Requirement already satisfied: importlib-resources>=3.2.0; python_version < \"3.10\" in ./venv/lib/python3.9/site-packages (from matplotlib) (5.12.0)\n",
      "Requirement already satisfied: cycler>=0.10 in ./venv/lib/python3.9/site-packages (from matplotlib) (0.11.0)\n",
      "Requirement already satisfied: kiwisolver>=1.0.1 in ./venv/lib/python3.9/site-packages (from matplotlib) (1.4.4)\n",
      "Requirement already satisfied: typing-extensions>=3.7.4.3 in ./venv/lib/python3.9/site-packages (from huggingface-hub<1.0,>=0.14.1->transformers[torch]) (4.4.0)\n",
      "Requirement already satisfied: urllib3<1.27,>=1.21.1 in ./venv/lib/python3.9/site-packages (from requests->transformers[torch]) (1.26.13)\n",
      "Requirement already satisfied: certifi>=2017.4.17 in ./venv/lib/python3.9/site-packages (from requests->transformers[torch]) (2022.12.7)\n",
      "Requirement already satisfied: charset-normalizer<3,>=2 in ./venv/lib/python3.9/site-packages (from requests->transformers[torch]) (2.1.1)\n",
      "Requirement already satisfied: idna<4,>=2.5 in ./venv/lib/python3.9/site-packages (from requests->transformers[torch]) (3.4)\n",
      "Requirement already satisfied: psutil in ./venv/lib/python3.9/site-packages (from accelerate>=0.20.2; extra == \"torch\"->transformers[torch]) (5.9.5)\n",
      "Requirement already satisfied: triton==2.0.0; platform_system == \"Linux\" and platform_machine == \"x86_64\" in ./venv/lib/python3.9/site-packages (from torch!=1.12.0,>=1.9; extra == \"torch\"->transformers[torch]) (2.0.0)\n",
      "Requirement already satisfied: sympy in ./venv/lib/python3.9/site-packages (from torch!=1.12.0,>=1.9; extra == \"torch\"->transformers[torch]) (1.11.1)\n",
      "Requirement already satisfied: jinja2 in ./venv/lib/python3.9/site-packages (from torch!=1.12.0,>=1.9; extra == \"torch\"->transformers[torch]) (3.1.2)\n",
      "Requirement already satisfied: networkx in ./venv/lib/python3.9/site-packages (from torch!=1.12.0,>=1.9; extra == \"torch\"->transformers[torch]) (3.0)\n",
      "Requirement already satisfied: tzdata>=2022.1 in ./venv/lib/python3.9/site-packages (from pandas->datasets) (2023.3)\n",
      "Requirement already satisfied: pytz>=2020.1 in ./venv/lib/python3.9/site-packages (from pandas->datasets) (2023.3)\n",
      "Requirement already satisfied: attrs>=17.3.0 in ./venv/lib/python3.9/site-packages (from aiohttp->datasets) (23.1.0)\n",
      "Requirement already satisfied: aiosignal>=1.1.2 in ./venv/lib/python3.9/site-packages (from aiohttp->datasets) (1.3.1)\n",
      "Requirement already satisfied: frozenlist>=1.1.1 in ./venv/lib/python3.9/site-packages (from aiohttp->datasets) (1.3.3)\n",
      "Requirement already satisfied: yarl<2.0,>=1.0 in ./venv/lib/python3.9/site-packages (from aiohttp->datasets) (1.9.2)\n",
      "Requirement already satisfied: multidict<7.0,>=4.5 in ./venv/lib/python3.9/site-packages (from aiohttp->datasets) (6.0.4)\n",
      "Requirement already satisfied: async-timeout<5.0,>=4.0.0a3 in ./venv/lib/python3.9/site-packages (from aiohttp->datasets) (4.0.2)\n",
      "Requirement already satisfied: six>=1.5 in ./venv/lib/python3.9/site-packages (from python-dateutil>=2.7->matplotlib) (1.16.0)\n",
      "Requirement already satisfied: zipp>=3.1.0; python_version < \"3.10\" in ./venv/lib/python3.9/site-packages (from importlib-resources>=3.2.0; python_version < \"3.10\"->matplotlib) (3.15.0)\n",
      "Requirement already satisfied: lit in ./venv/lib/python3.9/site-packages (from triton==2.0.0; platform_system == \"Linux\" and platform_machine == \"x86_64\"->torch!=1.12.0,>=1.9; extra == \"torch\"->transformers[torch]) (15.0.7)\n",
      "Requirement already satisfied: cmake in ./venv/lib/python3.9/site-packages (from triton==2.0.0; platform_system == \"Linux\" and platform_machine == \"x86_64\"->torch!=1.12.0,>=1.9; extra == \"torch\"->transformers[torch]) (3.25.0)\n",
      "Requirement already satisfied: mpmath>=0.19 in ./venv/lib/python3.9/site-packages (from sympy->torch!=1.12.0,>=1.9; extra == \"torch\"->transformers[torch]) (1.2.1)\n",
      "Requirement already satisfied: MarkupSafe>=2.0 in ./venv/lib/python3.9/site-packages (from jinja2->torch!=1.12.0,>=1.9; extra == \"torch\"->transformers[torch]) (2.1.2)\n",
      "\u001b[33mWARNING: You are using pip version 20.2.3; however, version 23.1.2 is available.\n",
      "You should consider upgrading via the '/home/jonatas/project/material-aula-ds-pucrio/venv/bin/python -m pip install --upgrade pip' command.\u001b[0m\n"
     ]
    }
   ],
   "source": [
    "# instalando dependências\n",
    "! pip install transformers[torch] datasets evaluate scikit-learn matplotlib\n"
   ]
  },
  {
   "cell_type": "code",
   "execution_count": 2,
   "metadata": {},
   "outputs": [
    {
     "name": "stderr",
     "output_type": "stream",
     "text": [
      "/home/jonatas/project/material-aula-ds-pucrio/venv/lib/python3.9/site-packages/tqdm/auto.py:21: TqdmWarning: IProgress not found. Please update jupyter and ipywidgets. See https://ipywidgets.readthedocs.io/en/stable/user_install.html\n",
      "  from .autonotebook import tqdm as notebook_tqdm\n",
      "Found cached dataset yelp_review_full (/home/jonatas/.cache/huggingface/datasets/yelp_review_full/yelp_review_full/1.0.0/e8e18e19d7be9e75642fc66b198abadb116f73599ec89a69ba5dd8d1e57ba0bf)\n",
      "100%|██████████| 2/2 [00:00<00:00, 125.77it/s]\n",
      "Loading cached shuffled indices for dataset at /home/jonatas/.cache/huggingface/datasets/yelp_review_full/yelp_review_full/1.0.0/e8e18e19d7be9e75642fc66b198abadb116f73599ec89a69ba5dd8d1e57ba0bf/cache-a0e621c27d9b360e.arrow\n",
      "Loading cached shuffled indices for dataset at /home/jonatas/.cache/huggingface/datasets/yelp_review_full/yelp_review_full/1.0.0/e8e18e19d7be9e75642fc66b198abadb116f73599ec89a69ba5dd8d1e57ba0bf/cache-a0e621c27d9b360e.arrow\n",
      "Loading cached shuffled indices for dataset at /home/jonatas/.cache/huggingface/datasets/yelp_review_full/yelp_review_full/1.0.0/e8e18e19d7be9e75642fc66b198abadb116f73599ec89a69ba5dd8d1e57ba0bf/cache-61e0da4d9cd46a2c.arrow\n"
     ]
    }
   ],
   "source": [
    "# baixando o dataset\n",
    "\n",
    "from datasets import load_dataset\n",
    "\n",
    "dataset = load_dataset(\"yelp_review_full\")\n",
    "\n",
    "# criando os splits\n",
    "\n",
    "small_train_dataset = dataset[\"train\"].shuffle(seed=42).select(range(10000))\n",
    "small_dev_dataset = dataset[\"train\"].shuffle(seed=42).select(range(10000,10500))\n",
    "small_test_dataset = dataset[\"test\"].shuffle(seed=42).select(range(500))"
   ]
  },
  {
   "cell_type": "code",
   "execution_count": 3,
   "metadata": {},
   "outputs": [
    {
     "data": {
      "text/plain": [
       "{'label': 4,\n",
       " 'text': \"I stalk this truck.  I've been to industrial parks where I pretend to be a tech worker standing in line, strip mall parking lots, and of course the farmer's market.  The bowls are so so absolutely divine.  The owner is super friendly and he makes each bowl by hand with an incredible amount of pride.  You gotta eat here guys!!!\"}"
      ]
     },
     "execution_count": 3,
     "metadata": {},
     "output_type": "execute_result"
    }
   ],
   "source": [
    "small_train_dataset[0]"
   ]
  },
  {
   "cell_type": "code",
   "execution_count": 4,
   "metadata": {},
   "outputs": [
    {
     "data": {
      "text/plain": [
       "{0, 1, 2, 3, 4}"
      ]
     },
     "execution_count": 4,
     "metadata": {},
     "output_type": "execute_result"
    }
   ],
   "source": [
    "set(small_train_dataset[\"label\"])"
   ]
  },
  {
   "cell_type": "code",
   "execution_count": 5,
   "metadata": {},
   "outputs": [
    {
     "name": "stderr",
     "output_type": "stream",
     "text": [
      "Some weights of the model checkpoint at bert-base-cased were not used when initializing BertForSequenceClassification: ['cls.predictions.transform.LayerNorm.weight', 'cls.predictions.transform.dense.bias', 'cls.predictions.transform.LayerNorm.bias', 'cls.seq_relationship.weight', 'cls.predictions.bias', 'cls.seq_relationship.bias', 'cls.predictions.transform.dense.weight']\n",
      "- This IS expected if you are initializing BertForSequenceClassification from the checkpoint of a model trained on another task or with another architecture (e.g. initializing a BertForSequenceClassification model from a BertForPreTraining model).\n",
      "- This IS NOT expected if you are initializing BertForSequenceClassification from the checkpoint of a model that you expect to be exactly identical (initializing a BertForSequenceClassification model from a BertForSequenceClassification model).\n",
      "Some weights of BertForSequenceClassification were not initialized from the model checkpoint at bert-base-cased and are newly initialized: ['classifier.weight', 'classifier.bias']\n",
      "You should probably TRAIN this model on a down-stream task to be able to use it for predictions and inference.\n"
     ]
    }
   ],
   "source": [
    "from transformers import AutoModelForSequenceClassification\n",
    "from transformers import AutoTokenizer\n",
    "\n",
    "# carregando o modelo\n",
    "model = AutoModelForSequenceClassification.from_pretrained(\"bert-base-cased\", num_labels=5)\n",
    "\n",
    "# carregando o tokenizer\n",
    "tokenizer = AutoTokenizer.from_pretrained(\"bert-base-cased\")"
   ]
  },
  {
   "cell_type": "code",
   "execution_count": 6,
   "metadata": {},
   "outputs": [
    {
     "name": "stderr",
     "output_type": "stream",
     "text": [
      "Loading cached processed dataset at /home/jonatas/.cache/huggingface/datasets/yelp_review_full/yelp_review_full/1.0.0/e8e18e19d7be9e75642fc66b198abadb116f73599ec89a69ba5dd8d1e57ba0bf/cache-86049dadb1c6237c.arrow\n",
      "Loading cached processed dataset at /home/jonatas/.cache/huggingface/datasets/yelp_review_full/yelp_review_full/1.0.0/e8e18e19d7be9e75642fc66b198abadb116f73599ec89a69ba5dd8d1e57ba0bf/cache-37e6a6f6a019c35f.arrow\n",
      "Loading cached processed dataset at /home/jonatas/.cache/huggingface/datasets/yelp_review_full/yelp_review_full/1.0.0/e8e18e19d7be9e75642fc66b198abadb116f73599ec89a69ba5dd8d1e57ba0bf/cache-0e08fc264cf26f4c.arrow\n"
     ]
    }
   ],
   "source": [
    "# tokenizando os dados\n",
    "\n",
    "def tokenize_function(examples):\n",
    "    return tokenizer(examples[\"text\"], padding=\"max_length\", truncation=True)\n",
    "\n",
    "tokenized_small_train_dataset = small_train_dataset.map(tokenize_function, batched=True)\n",
    "tokenized_small_dev_dataset = small_dev_dataset.map(tokenize_function, batched=True)\n",
    "tokenized_small_test_dataset = small_test_dataset.map(tokenize_function, batched=True)"
   ]
  },
  {
   "cell_type": "code",
   "execution_count": 7,
   "metadata": {},
   "outputs": [],
   "source": [
    "from transformers import TrainingArguments, Trainer\n",
    "import numpy as np\n",
    "import evaluate\n",
    "\n",
    "metric = evaluate.load(\"accuracy\")\n",
    "\n",
    "def compute_metrics(eval_pred):\n",
    "    logits, labels = eval_pred\n",
    "    predictions = np.argmax(logits, axis=-1)\n",
    "    return metric.compute(predictions=predictions, references=labels)\n",
    "\n",
    "MODEL_PATH = \"test_trainer_v0\"\n",
    "\n",
    "training_args = TrainingArguments(\n",
    "    output_dir=MODEL_PATH,\n",
    "    evaluation_strategy=\"steps\",\n",
    "    per_device_train_batch_size=32,\n",
    "    per_device_eval_batch_size=32,\n",
    "    max_steps=1000,\n",
    "    learning_rate=3e-5,\n",
    "    logging_strategy=\"steps\",\n",
    "    logging_steps=10,\n",
    "    eval_steps=50,\n",
    "    save_steps=50,\n",
    "    load_best_model_at_end=True,\n",
    "    metric_for_best_model=\"accuracy\",\n",
    "    greater_is_better=True,\n",
    "    save_total_limit=2,\n",
    "    disable_tqdm=True\n",
    ")\n",
    "\n",
    "trainer = Trainer(\n",
    "    model=model,\n",
    "    args=training_args,\n",
    "    train_dataset=tokenized_small_train_dataset,\n",
    "    eval_dataset=tokenized_small_dev_dataset,\n",
    "    compute_metrics=compute_metrics,\n",
    ")"
   ]
  },
  {
   "cell_type": "code",
   "execution_count": 8,
   "metadata": {},
   "outputs": [
    {
     "name": "stderr",
     "output_type": "stream",
     "text": [
      "/home/jonatas/project/material-aula-ds-pucrio/venv/lib/python3.9/site-packages/transformers/optimization.py:411: FutureWarning: This implementation of AdamW is deprecated and will be removed in a future version. Use the PyTorch implementation torch.optim.AdamW instead, or set `no_deprecation_warning=True` to disable this warning\n",
      "  warnings.warn(\n"
     ]
    },
    {
     "name": "stdout",
     "output_type": "stream",
     "text": [
      "{'loss': 1.6104, 'learning_rate': 2.97e-05, 'epoch': 0.03}\n",
      "{'loss': 1.5134, 'learning_rate': 2.94e-05, 'epoch': 0.06}\n",
      "{'loss': 1.3924, 'learning_rate': 2.91e-05, 'epoch': 0.1}\n",
      "{'loss': 1.2792, 'learning_rate': 2.88e-05, 'epoch': 0.13}\n",
      "{'loss': 1.2105, 'learning_rate': 2.8499999999999998e-05, 'epoch': 0.16}\n",
      "{'eval_loss': 1.2539870738983154, 'eval_accuracy': 0.472, 'eval_runtime': 6.4401, 'eval_samples_per_second': 77.639, 'eval_steps_per_second': 2.484, 'epoch': 0.16}\n",
      "{'loss': 1.2091, 'learning_rate': 2.8199999999999998e-05, 'epoch': 0.19}\n",
      "{'loss': 1.1332, 'learning_rate': 2.79e-05, 'epoch': 0.22}\n",
      "{'loss': 1.0723, 'learning_rate': 2.7600000000000003e-05, 'epoch': 0.26}\n",
      "{'loss': 1.0385, 'learning_rate': 2.7300000000000003e-05, 'epoch': 0.29}\n",
      "{'loss': 1.0789, 'learning_rate': 2.7000000000000002e-05, 'epoch': 0.32}\n",
      "{'eval_loss': 1.1550742387771606, 'eval_accuracy': 0.514, 'eval_runtime': 6.5329, 'eval_samples_per_second': 76.536, 'eval_steps_per_second': 2.449, 'epoch': 0.32}\n",
      "{'loss': 1.0624, 'learning_rate': 2.6700000000000002e-05, 'epoch': 0.35}\n",
      "{'loss': 1.0795, 'learning_rate': 2.64e-05, 'epoch': 0.38}\n",
      "{'loss': 0.9911, 'learning_rate': 2.61e-05, 'epoch': 0.42}\n",
      "{'loss': 0.995, 'learning_rate': 2.58e-05, 'epoch': 0.45}\n",
      "{'loss': 0.9701, 'learning_rate': 2.55e-05, 'epoch': 0.48}\n",
      "{'eval_loss': 1.0853044986724854, 'eval_accuracy': 0.54, 'eval_runtime': 6.7483, 'eval_samples_per_second': 74.093, 'eval_steps_per_second': 2.371, 'epoch': 0.48}\n",
      "{'loss': 0.9467, 'learning_rate': 2.52e-05, 'epoch': 0.51}\n",
      "{'loss': 0.9613, 'learning_rate': 2.49e-05, 'epoch': 0.54}\n",
      "{'loss': 0.9977, 'learning_rate': 2.4599999999999998e-05, 'epoch': 0.58}\n",
      "{'loss': 1.0219, 'learning_rate': 2.43e-05, 'epoch': 0.61}\n",
      "{'loss': 0.9329, 'learning_rate': 2.4e-05, 'epoch': 0.64}\n",
      "{'eval_loss': 1.0783768892288208, 'eval_accuracy': 0.536, 'eval_runtime': 6.6922, 'eval_samples_per_second': 74.714, 'eval_steps_per_second': 2.391, 'epoch': 0.64}\n",
      "{'loss': 0.9983, 'learning_rate': 2.37e-05, 'epoch': 0.67}\n",
      "{'loss': 0.9143, 'learning_rate': 2.3400000000000003e-05, 'epoch': 0.7}\n",
      "{'loss': 1.0101, 'learning_rate': 2.3100000000000002e-05, 'epoch': 0.73}\n",
      "{'loss': 0.9787, 'learning_rate': 2.2800000000000002e-05, 'epoch': 0.77}\n",
      "{'loss': 0.9293, 'learning_rate': 2.25e-05, 'epoch': 0.8}\n",
      "{'eval_loss': 1.0940462350845337, 'eval_accuracy': 0.534, 'eval_runtime': 6.7961, 'eval_samples_per_second': 73.571, 'eval_steps_per_second': 2.354, 'epoch': 0.8}\n",
      "{'loss': 0.9711, 'learning_rate': 2.22e-05, 'epoch': 0.83}\n",
      "{'loss': 0.9156, 'learning_rate': 2.19e-05, 'epoch': 0.86}\n",
      "{'loss': 0.9817, 'learning_rate': 2.16e-05, 'epoch': 0.89}\n",
      "{'loss': 0.9735, 'learning_rate': 2.13e-05, 'epoch': 0.93}\n",
      "{'loss': 0.9575, 'learning_rate': 2.1e-05, 'epoch': 0.96}\n",
      "{'eval_loss': 1.010738492012024, 'eval_accuracy': 0.586, 'eval_runtime': 6.7482, 'eval_samples_per_second': 74.094, 'eval_steps_per_second': 2.371, 'epoch': 0.96}\n",
      "{'loss': 0.9197, 'learning_rate': 2.07e-05, 'epoch': 0.99}\n",
      "{'loss': 0.9591, 'learning_rate': 2.04e-05, 'epoch': 1.02}\n",
      "{'loss': 0.8114, 'learning_rate': 2.01e-05, 'epoch': 1.05}\n",
      "{'loss': 0.7853, 'learning_rate': 1.98e-05, 'epoch': 1.09}\n",
      "{'loss': 0.7814, 'learning_rate': 1.95e-05, 'epoch': 1.12}\n",
      "{'eval_loss': 1.0472328662872314, 'eval_accuracy': 0.56, 'eval_runtime': 6.7664, 'eval_samples_per_second': 73.894, 'eval_steps_per_second': 2.365, 'epoch': 1.12}\n",
      "{'loss': 0.7475, 'learning_rate': 1.9200000000000003e-05, 'epoch': 1.15}\n",
      "{'loss': 0.7338, 'learning_rate': 1.8900000000000002e-05, 'epoch': 1.18}\n",
      "{'loss': 0.857, 'learning_rate': 1.86e-05, 'epoch': 1.21}\n",
      "{'loss': 0.7601, 'learning_rate': 1.83e-05, 'epoch': 1.25}\n",
      "{'loss': 0.791, 'learning_rate': 1.8e-05, 'epoch': 1.28}\n",
      "{'eval_loss': 1.069977879524231, 'eval_accuracy': 0.576, 'eval_runtime': 6.8775, 'eval_samples_per_second': 72.701, 'eval_steps_per_second': 2.326, 'epoch': 1.28}\n",
      "{'loss': 0.7141, 'learning_rate': 1.77e-05, 'epoch': 1.31}\n",
      "{'loss': 0.7783, 'learning_rate': 1.74e-05, 'epoch': 1.34}\n",
      "{'loss': 0.7737, 'learning_rate': 1.71e-05, 'epoch': 1.37}\n",
      "{'loss': 0.8476, 'learning_rate': 1.6800000000000002e-05, 'epoch': 1.41}\n",
      "{'loss': 0.8106, 'learning_rate': 1.65e-05, 'epoch': 1.44}\n",
      "{'eval_loss': 1.076189398765564, 'eval_accuracy': 0.552, 'eval_runtime': 6.8486, 'eval_samples_per_second': 73.008, 'eval_steps_per_second': 2.336, 'epoch': 1.44}\n",
      "{'loss': 0.8341, 'learning_rate': 1.62e-05, 'epoch': 1.47}\n",
      "{'loss': 0.6459, 'learning_rate': 1.59e-05, 'epoch': 1.5}\n",
      "{'loss': 0.778, 'learning_rate': 1.56e-05, 'epoch': 1.53}\n",
      "{'loss': 0.7668, 'learning_rate': 1.53e-05, 'epoch': 1.57}\n",
      "{'loss': 0.8679, 'learning_rate': 1.5e-05, 'epoch': 1.6}\n",
      "{'eval_loss': 1.0780267715454102, 'eval_accuracy': 0.562, 'eval_runtime': 6.7766, 'eval_samples_per_second': 73.783, 'eval_steps_per_second': 2.361, 'epoch': 1.6}\n",
      "{'loss': 0.7964, 'learning_rate': 1.47e-05, 'epoch': 1.63}\n",
      "{'loss': 0.7135, 'learning_rate': 1.44e-05, 'epoch': 1.66}\n",
      "{'loss': 0.6745, 'learning_rate': 1.4099999999999999e-05, 'epoch': 1.69}\n",
      "{'loss': 0.7688, 'learning_rate': 1.3800000000000002e-05, 'epoch': 1.73}\n",
      "{'loss': 0.7707, 'learning_rate': 1.3500000000000001e-05, 'epoch': 1.76}\n",
      "{'eval_loss': 1.077462077140808, 'eval_accuracy': 0.558, 'eval_runtime': 6.8067, 'eval_samples_per_second': 73.457, 'eval_steps_per_second': 2.351, 'epoch': 1.76}\n",
      "{'loss': 0.6735, 'learning_rate': 1.32e-05, 'epoch': 1.79}\n",
      "{'loss': 0.7258, 'learning_rate': 1.29e-05, 'epoch': 1.82}\n",
      "{'loss': 0.8116, 'learning_rate': 1.26e-05, 'epoch': 1.85}\n",
      "{'loss': 0.7191, 'learning_rate': 1.2299999999999999e-05, 'epoch': 1.88}\n",
      "{'loss': 0.7822, 'learning_rate': 1.2e-05, 'epoch': 1.92}\n",
      "{'eval_loss': 1.0939797163009644, 'eval_accuracy': 0.588, 'eval_runtime': 6.8019, 'eval_samples_per_second': 73.509, 'eval_steps_per_second': 2.352, 'epoch': 1.92}\n",
      "{'loss': 0.7407, 'learning_rate': 1.1700000000000001e-05, 'epoch': 1.95}\n",
      "{'loss': 0.7717, 'learning_rate': 1.1400000000000001e-05, 'epoch': 1.98}\n",
      "{'loss': 0.7913, 'learning_rate': 1.11e-05, 'epoch': 2.01}\n",
      "{'loss': 0.6028, 'learning_rate': 1.08e-05, 'epoch': 2.04}\n",
      "{'loss': 0.6038, 'learning_rate': 1.05e-05, 'epoch': 2.08}\n",
      "{'eval_loss': 1.0770814418792725, 'eval_accuracy': 0.57, 'eval_runtime': 7.1788, 'eval_samples_per_second': 69.65, 'eval_steps_per_second': 2.229, 'epoch': 2.08}\n",
      "{'loss': 0.6454, 'learning_rate': 1.02e-05, 'epoch': 2.11}\n",
      "{'loss': 0.5131, 'learning_rate': 9.9e-06, 'epoch': 2.14}\n",
      "{'loss': 0.5685, 'learning_rate': 9.600000000000001e-06, 'epoch': 2.17}\n",
      "{'loss': 0.647, 'learning_rate': 9.3e-06, 'epoch': 2.2}\n",
      "{'loss': 0.5583, 'learning_rate': 9e-06, 'epoch': 2.24}\n",
      "{'eval_loss': 1.1447402238845825, 'eval_accuracy': 0.57, 'eval_runtime': 6.873, 'eval_samples_per_second': 72.748, 'eval_steps_per_second': 2.328, 'epoch': 2.24}\n",
      "{'loss': 0.503, 'learning_rate': 8.7e-06, 'epoch': 2.27}\n",
      "{'loss': 0.6142, 'learning_rate': 8.400000000000001e-06, 'epoch': 2.3}\n",
      "{'loss': 0.5852, 'learning_rate': 8.1e-06, 'epoch': 2.33}\n",
      "{'loss': 0.5563, 'learning_rate': 7.8e-06, 'epoch': 2.36}\n",
      "{'loss': 0.5583, 'learning_rate': 7.5e-06, 'epoch': 2.4}\n",
      "{'eval_loss': 1.1498653888702393, 'eval_accuracy': 0.56, 'eval_runtime': 6.868, 'eval_samples_per_second': 72.802, 'eval_steps_per_second': 2.33, 'epoch': 2.4}\n",
      "{'loss': 0.5426, 'learning_rate': 7.2e-06, 'epoch': 2.43}\n",
      "{'loss': 0.566, 'learning_rate': 6.900000000000001e-06, 'epoch': 2.46}\n",
      "{'loss': 0.5561, 'learning_rate': 6.6e-06, 'epoch': 2.49}\n",
      "{'loss': 0.5698, 'learning_rate': 6.3e-06, 'epoch': 2.52}\n",
      "{'loss': 0.5151, 'learning_rate': 6e-06, 'epoch': 2.56}\n",
      "{'eval_loss': 1.1633554697036743, 'eval_accuracy': 0.572, 'eval_runtime': 6.9167, 'eval_samples_per_second': 72.289, 'eval_steps_per_second': 2.313, 'epoch': 2.56}\n",
      "{'loss': 0.5668, 'learning_rate': 5.7000000000000005e-06, 'epoch': 2.59}\n",
      "{'loss': 0.494, 'learning_rate': 5.4e-06, 'epoch': 2.62}\n",
      "{'loss': 0.5945, 'learning_rate': 5.1e-06, 'epoch': 2.65}\n",
      "{'loss': 0.5128, 'learning_rate': 4.800000000000001e-06, 'epoch': 2.68}\n",
      "{'loss': 0.6251, 'learning_rate': 4.5e-06, 'epoch': 2.72}\n",
      "{'eval_loss': 1.2093924283981323, 'eval_accuracy': 0.57, 'eval_runtime': 6.8589, 'eval_samples_per_second': 72.898, 'eval_steps_per_second': 2.333, 'epoch': 2.72}\n",
      "{'loss': 0.552, 'learning_rate': 4.2000000000000004e-06, 'epoch': 2.75}\n",
      "{'loss': 0.5678, 'learning_rate': 3.9e-06, 'epoch': 2.78}\n",
      "{'loss': 0.5447, 'learning_rate': 3.6e-06, 'epoch': 2.81}\n",
      "{'loss': 0.5891, 'learning_rate': 3.3e-06, 'epoch': 2.84}\n",
      "{'loss': 0.5602, 'learning_rate': 3e-06, 'epoch': 2.88}\n",
      "{'eval_loss': 1.20196533203125, 'eval_accuracy': 0.57, 'eval_runtime': 6.9094, 'eval_samples_per_second': 72.365, 'eval_steps_per_second': 2.316, 'epoch': 2.88}\n",
      "{'loss': 0.5872, 'learning_rate': 2.7e-06, 'epoch': 2.91}\n",
      "{'loss': 0.4895, 'learning_rate': 2.4000000000000003e-06, 'epoch': 2.94}\n",
      "{'loss': 0.5388, 'learning_rate': 2.1000000000000002e-06, 'epoch': 2.97}\n",
      "{'loss': 0.5296, 'learning_rate': 1.8e-06, 'epoch': 3.0}\n",
      "{'loss': 0.4788, 'learning_rate': 1.5e-06, 'epoch': 3.04}\n",
      "{'eval_loss': 1.2008767127990723, 'eval_accuracy': 0.564, 'eval_runtime': 6.9071, 'eval_samples_per_second': 72.39, 'eval_steps_per_second': 2.316, 'epoch': 3.04}\n",
      "{'loss': 0.5194, 'learning_rate': 1.2000000000000002e-06, 'epoch': 3.07}\n",
      "{'loss': 0.4577, 'learning_rate': 9e-07, 'epoch': 3.1}\n",
      "{'loss': 0.478, 'learning_rate': 6.000000000000001e-07, 'epoch': 3.13}\n",
      "{'loss': 0.4347, 'learning_rate': 3.0000000000000004e-07, 'epoch': 3.16}\n",
      "{'loss': 0.4597, 'learning_rate': 0.0, 'epoch': 3.19}\n",
      "{'eval_loss': 1.205626368522644, 'eval_accuracy': 0.564, 'eval_runtime': 6.8801, 'eval_samples_per_second': 72.673, 'eval_steps_per_second': 2.326, 'epoch': 3.19}\n",
      "{'train_runtime': 1345.0702, 'train_samples_per_second': 23.791, 'train_steps_per_second': 0.743, 'train_loss': 0.7811525411605835, 'epoch': 3.19}\n"
     ]
    },
    {
     "data": {
      "text/plain": [
       "TrainOutput(global_step=1000, training_loss=0.7811525411605835, metrics={'train_runtime': 1345.0702, 'train_samples_per_second': 23.791, 'train_steps_per_second': 0.743, 'train_loss': 0.7811525411605835, 'epoch': 3.19})"
      ]
     },
     "execution_count": 8,
     "metadata": {},
     "output_type": "execute_result"
    }
   ],
   "source": [
    "trainer.train()"
   ]
  },
  {
   "cell_type": "code",
   "execution_count": 10,
   "metadata": {},
   "outputs": [
    {
     "data": {
      "text/html": [
       "<div>\n",
       "<style scoped>\n",
       "    .dataframe tbody tr th:only-of-type {\n",
       "        vertical-align: middle;\n",
       "    }\n",
       "\n",
       "    .dataframe tbody tr th {\n",
       "        vertical-align: top;\n",
       "    }\n",
       "\n",
       "    .dataframe thead th {\n",
       "        text-align: right;\n",
       "    }\n",
       "</style>\n",
       "<table border=\"1\" class=\"dataframe\">\n",
       "  <thead>\n",
       "    <tr style=\"text-align: right;\">\n",
       "      <th></th>\n",
       "      <th>loss</th>\n",
       "      <th>learning_rate</th>\n",
       "      <th>epoch</th>\n",
       "      <th>step</th>\n",
       "      <th>eval_loss</th>\n",
       "      <th>eval_accuracy</th>\n",
       "      <th>eval_runtime</th>\n",
       "      <th>eval_samples_per_second</th>\n",
       "      <th>eval_steps_per_second</th>\n",
       "      <th>train_runtime</th>\n",
       "      <th>train_samples_per_second</th>\n",
       "      <th>train_steps_per_second</th>\n",
       "      <th>total_flos</th>\n",
       "      <th>train_loss</th>\n",
       "    </tr>\n",
       "  </thead>\n",
       "  <tbody>\n",
       "    <tr>\n",
       "      <th>0</th>\n",
       "      <td>1.6104</td>\n",
       "      <td>2.970000e-05</td>\n",
       "      <td>0.03</td>\n",
       "      <td>10</td>\n",
       "      <td>NaN</td>\n",
       "      <td>NaN</td>\n",
       "      <td>NaN</td>\n",
       "      <td>NaN</td>\n",
       "      <td>NaN</td>\n",
       "      <td>NaN</td>\n",
       "      <td>NaN</td>\n",
       "      <td>NaN</td>\n",
       "      <td>NaN</td>\n",
       "      <td>NaN</td>\n",
       "    </tr>\n",
       "    <tr>\n",
       "      <th>1</th>\n",
       "      <td>1.5134</td>\n",
       "      <td>2.940000e-05</td>\n",
       "      <td>0.06</td>\n",
       "      <td>20</td>\n",
       "      <td>NaN</td>\n",
       "      <td>NaN</td>\n",
       "      <td>NaN</td>\n",
       "      <td>NaN</td>\n",
       "      <td>NaN</td>\n",
       "      <td>NaN</td>\n",
       "      <td>NaN</td>\n",
       "      <td>NaN</td>\n",
       "      <td>NaN</td>\n",
       "      <td>NaN</td>\n",
       "    </tr>\n",
       "    <tr>\n",
       "      <th>2</th>\n",
       "      <td>1.3924</td>\n",
       "      <td>2.910000e-05</td>\n",
       "      <td>0.10</td>\n",
       "      <td>30</td>\n",
       "      <td>NaN</td>\n",
       "      <td>NaN</td>\n",
       "      <td>NaN</td>\n",
       "      <td>NaN</td>\n",
       "      <td>NaN</td>\n",
       "      <td>NaN</td>\n",
       "      <td>NaN</td>\n",
       "      <td>NaN</td>\n",
       "      <td>NaN</td>\n",
       "      <td>NaN</td>\n",
       "    </tr>\n",
       "    <tr>\n",
       "      <th>3</th>\n",
       "      <td>1.2792</td>\n",
       "      <td>2.880000e-05</td>\n",
       "      <td>0.13</td>\n",
       "      <td>40</td>\n",
       "      <td>NaN</td>\n",
       "      <td>NaN</td>\n",
       "      <td>NaN</td>\n",
       "      <td>NaN</td>\n",
       "      <td>NaN</td>\n",
       "      <td>NaN</td>\n",
       "      <td>NaN</td>\n",
       "      <td>NaN</td>\n",
       "      <td>NaN</td>\n",
       "      <td>NaN</td>\n",
       "    </tr>\n",
       "    <tr>\n",
       "      <th>4</th>\n",
       "      <td>1.2105</td>\n",
       "      <td>2.850000e-05</td>\n",
       "      <td>0.16</td>\n",
       "      <td>50</td>\n",
       "      <td>NaN</td>\n",
       "      <td>NaN</td>\n",
       "      <td>NaN</td>\n",
       "      <td>NaN</td>\n",
       "      <td>NaN</td>\n",
       "      <td>NaN</td>\n",
       "      <td>NaN</td>\n",
       "      <td>NaN</td>\n",
       "      <td>NaN</td>\n",
       "      <td>NaN</td>\n",
       "    </tr>\n",
       "    <tr>\n",
       "      <th>...</th>\n",
       "      <td>...</td>\n",
       "      <td>...</td>\n",
       "      <td>...</td>\n",
       "      <td>...</td>\n",
       "      <td>...</td>\n",
       "      <td>...</td>\n",
       "      <td>...</td>\n",
       "      <td>...</td>\n",
       "      <td>...</td>\n",
       "      <td>...</td>\n",
       "      <td>...</td>\n",
       "      <td>...</td>\n",
       "      <td>...</td>\n",
       "      <td>...</td>\n",
       "    </tr>\n",
       "    <tr>\n",
       "      <th>116</th>\n",
       "      <td>0.4780</td>\n",
       "      <td>6.000000e-07</td>\n",
       "      <td>3.13</td>\n",
       "      <td>980</td>\n",
       "      <td>NaN</td>\n",
       "      <td>NaN</td>\n",
       "      <td>NaN</td>\n",
       "      <td>NaN</td>\n",
       "      <td>NaN</td>\n",
       "      <td>NaN</td>\n",
       "      <td>NaN</td>\n",
       "      <td>NaN</td>\n",
       "      <td>NaN</td>\n",
       "      <td>NaN</td>\n",
       "    </tr>\n",
       "    <tr>\n",
       "      <th>117</th>\n",
       "      <td>0.4347</td>\n",
       "      <td>3.000000e-07</td>\n",
       "      <td>3.16</td>\n",
       "      <td>990</td>\n",
       "      <td>NaN</td>\n",
       "      <td>NaN</td>\n",
       "      <td>NaN</td>\n",
       "      <td>NaN</td>\n",
       "      <td>NaN</td>\n",
       "      <td>NaN</td>\n",
       "      <td>NaN</td>\n",
       "      <td>NaN</td>\n",
       "      <td>NaN</td>\n",
       "      <td>NaN</td>\n",
       "    </tr>\n",
       "    <tr>\n",
       "      <th>118</th>\n",
       "      <td>0.4597</td>\n",
       "      <td>0.000000e+00</td>\n",
       "      <td>3.19</td>\n",
       "      <td>1000</td>\n",
       "      <td>NaN</td>\n",
       "      <td>NaN</td>\n",
       "      <td>NaN</td>\n",
       "      <td>NaN</td>\n",
       "      <td>NaN</td>\n",
       "      <td>NaN</td>\n",
       "      <td>NaN</td>\n",
       "      <td>NaN</td>\n",
       "      <td>NaN</td>\n",
       "      <td>NaN</td>\n",
       "    </tr>\n",
       "    <tr>\n",
       "      <th>119</th>\n",
       "      <td>NaN</td>\n",
       "      <td>NaN</td>\n",
       "      <td>3.19</td>\n",
       "      <td>1000</td>\n",
       "      <td>1.205626</td>\n",
       "      <td>0.564</td>\n",
       "      <td>6.8801</td>\n",
       "      <td>72.673</td>\n",
       "      <td>2.326</td>\n",
       "      <td>NaN</td>\n",
       "      <td>NaN</td>\n",
       "      <td>NaN</td>\n",
       "      <td>NaN</td>\n",
       "      <td>NaN</td>\n",
       "    </tr>\n",
       "    <tr>\n",
       "      <th>120</th>\n",
       "      <td>NaN</td>\n",
       "      <td>NaN</td>\n",
       "      <td>3.19</td>\n",
       "      <td>1000</td>\n",
       "      <td>NaN</td>\n",
       "      <td>NaN</td>\n",
       "      <td>NaN</td>\n",
       "      <td>NaN</td>\n",
       "      <td>NaN</td>\n",
       "      <td>1345.0702</td>\n",
       "      <td>23.791</td>\n",
       "      <td>0.743</td>\n",
       "      <td>8.407151e+15</td>\n",
       "      <td>0.781153</td>\n",
       "    </tr>\n",
       "  </tbody>\n",
       "</table>\n",
       "<p>121 rows × 14 columns</p>\n",
       "</div>"
      ],
      "text/plain": [
       "       loss  learning_rate  epoch  step  eval_loss  eval_accuracy  \\\n",
       "0    1.6104   2.970000e-05   0.03    10        NaN            NaN   \n",
       "1    1.5134   2.940000e-05   0.06    20        NaN            NaN   \n",
       "2    1.3924   2.910000e-05   0.10    30        NaN            NaN   \n",
       "3    1.2792   2.880000e-05   0.13    40        NaN            NaN   \n",
       "4    1.2105   2.850000e-05   0.16    50        NaN            NaN   \n",
       "..      ...            ...    ...   ...        ...            ...   \n",
       "116  0.4780   6.000000e-07   3.13   980        NaN            NaN   \n",
       "117  0.4347   3.000000e-07   3.16   990        NaN            NaN   \n",
       "118  0.4597   0.000000e+00   3.19  1000        NaN            NaN   \n",
       "119     NaN            NaN   3.19  1000   1.205626          0.564   \n",
       "120     NaN            NaN   3.19  1000        NaN            NaN   \n",
       "\n",
       "     eval_runtime  eval_samples_per_second  eval_steps_per_second  \\\n",
       "0             NaN                      NaN                    NaN   \n",
       "1             NaN                      NaN                    NaN   \n",
       "2             NaN                      NaN                    NaN   \n",
       "3             NaN                      NaN                    NaN   \n",
       "4             NaN                      NaN                    NaN   \n",
       "..            ...                      ...                    ...   \n",
       "116           NaN                      NaN                    NaN   \n",
       "117           NaN                      NaN                    NaN   \n",
       "118           NaN                      NaN                    NaN   \n",
       "119        6.8801                   72.673                  2.326   \n",
       "120           NaN                      NaN                    NaN   \n",
       "\n",
       "     train_runtime  train_samples_per_second  train_steps_per_second  \\\n",
       "0              NaN                       NaN                     NaN   \n",
       "1              NaN                       NaN                     NaN   \n",
       "2              NaN                       NaN                     NaN   \n",
       "3              NaN                       NaN                     NaN   \n",
       "4              NaN                       NaN                     NaN   \n",
       "..             ...                       ...                     ...   \n",
       "116            NaN                       NaN                     NaN   \n",
       "117            NaN                       NaN                     NaN   \n",
       "118            NaN                       NaN                     NaN   \n",
       "119            NaN                       NaN                     NaN   \n",
       "120      1345.0702                    23.791                   0.743   \n",
       "\n",
       "       total_flos  train_loss  \n",
       "0             NaN         NaN  \n",
       "1             NaN         NaN  \n",
       "2             NaN         NaN  \n",
       "3             NaN         NaN  \n",
       "4             NaN         NaN  \n",
       "..            ...         ...  \n",
       "116           NaN         NaN  \n",
       "117           NaN         NaN  \n",
       "118           NaN         NaN  \n",
       "119           NaN         NaN  \n",
       "120  8.407151e+15    0.781153  \n",
       "\n",
       "[121 rows x 14 columns]"
      ]
     },
     "execution_count": 10,
     "metadata": {},
     "output_type": "execute_result"
    }
   ],
   "source": [
    "import pandas as pd\n",
    "\n",
    "df_log = pd.DataFrame(trainer.state.log_history)\n",
    "df_log"
   ]
  },
  {
   "cell_type": "code",
   "execution_count": 14,
   "metadata": {},
   "outputs": [
    {
     "data": {
      "text/plain": [
       "<Axes: >"
      ]
     },
     "execution_count": 14,
     "metadata": {},
     "output_type": "execute_result"
    },
    {
     "data": {
      "image/png": "[encoded data removed]",
      "text/plain": [
       "<Figure size 640x480 with 1 Axes>"
      ]
     },
     "metadata": {},
     "output_type": "display_data"
    }
   ],
   "source": [
    "df_log.plot(y=[\"loss\"])\n"
   ]
  },
  {
   "cell_type": "code",
   "execution_count": 18,
   "metadata": {},
   "outputs": [
    {
     "data": {
      "text/plain": [
       "<Axes: >"
      ]
     },
     "execution_count": 18,
     "metadata": {},
     "output_type": "execute_result"
    },
    {
     "data": {
      "image/png": "[encoded data removed]",
      "text/plain": [
       "<Figure size 640x480 with 1 Axes>"
      ]
     },
     "metadata": {},
     "output_type": "display_data"
    }
   ],
   "source": [
    "df_log[\"eval_loss\"].dropna().plot()"
   ]
  },
  {
   "cell_type": "code",
   "execution_count": 17,
   "metadata": {},
   "outputs": [
    {
     "data": {
      "text/plain": [
       "<Axes: >"
      ]
     },
     "execution_count": 17,
     "metadata": {},
     "output_type": "execute_result"
    },
    {
     "data": {
      "image/png": "[encoded data removed]",
      "text/plain": [
       "<Figure size 640x480 with 1 Axes>"
      ]
     },
     "metadata": {},
     "output_type": "display_data"
    }
   ],
   "source": [
    "df_log[\"eval_accuracy\"].dropna().plot()\n"
   ]
  },
  {
   "cell_type": "code",
   "execution_count": 19,
   "metadata": {},
   "outputs": [
    {
     "name": "stdout",
     "output_type": "stream",
     "text": [
      "{'eval_loss': 0.9540801048278809, 'eval_accuracy': 0.596, 'eval_runtime': 5.5427, 'eval_samples_per_second': 90.209, 'eval_steps_per_second': 2.887, 'epoch': 3.19}\n"
     ]
    },
    {
     "data": {
      "text/plain": [
       "{'eval_loss': 0.9540801048278809,\n",
       " 'eval_accuracy': 0.596,\n",
       " 'eval_runtime': 5.5427,\n",
       " 'eval_samples_per_second': 90.209,\n",
       " 'eval_steps_per_second': 2.887,\n",
       " 'epoch': 3.19}"
      ]
     },
     "execution_count": 19,
     "metadata": {},
     "output_type": "execute_result"
    }
   ],
   "source": [
    "# avaliando o modelo\n",
    "\n",
    "trainer.evaluate(tokenized_small_test_dataset)\n"
   ]
  },
  {
   "cell_type": "code",
   "execution_count": 20,
   "metadata": {},
   "outputs": [
    {
     "data": {
      "text/plain": [
       "('test_trainer_v0/tokenizer_config.json',\n",
       " 'test_trainer_v0/special_tokens_map.json',\n",
       " 'test_trainer_v0/vocab.txt',\n",
       " 'test_trainer_v0/added_tokens.json',\n",
       " 'test_trainer_v0/tokenizer.json')"
      ]
     },
     "execution_count": 20,
     "metadata": {},
     "output_type": "execute_result"
    }
   ],
   "source": [
    "trainer.save_model(MODEL_PATH)\n",
    "tokenizer.save_pretrained(MODEL_PATH)"
   ]
  },
  {
   "cell_type": "code",
   "execution_count": 24,
   "metadata": {},
   "outputs": [
    {
     "data": {
      "text/plain": [
       "tensor([[0.0024, 0.0028, 0.0195, 0.3237, 0.6516]], grad_fn=<SoftmaxBackward0>)"
      ]
     },
     "execution_count": 24,
     "metadata": {},
     "output_type": "execute_result"
    }
   ],
   "source": [
    "# carregando o modelo e rodando um predict\n",
    "\n",
    "from transformers import AutoModelForSequenceClassification\n",
    "from transformers import AutoTokenizer\n",
    "import torch\n",
    "\n",
    "model = AutoModelForSequenceClassification.from_pretrained(MODEL_PATH)\n",
    "tokenizer = AutoTokenizer.from_pretrained(MODEL_PATH)\n",
    "\n",
    "text = \"This is a really good restaurant\"\n",
    "encoded_input = tokenizer(text, return_tensors=\"pt\")\n",
    "output = model(**encoded_input)\n",
    "output.logits\n",
    "\n",
    "# convertendo a saída para probabilidades\n",
    "\n",
    "import torch.nn.functional as F\n",
    "\n",
    "probabilities = F.softmax(output.logits, dim=-1)\n",
    "probabilities\n",
    "\n",
    "# convertendo a saída para labels\n",
    "\n",
    "predicted_class_idx = torch.argmax(probabilities, dim=-1)\n",
    "predicted_class_idx\n",
    "\n",
    "probabilities\n",
    "\n"
   ]
  },
  {
   "cell_type": "code",
   "execution_count": null,
   "metadata": {},
   "outputs": [],
   "source": [
    "encoded_input"
   ]
  },
  {
   "cell_type": "code",
   "execution_count": null,
   "metadata": {},
   "outputs": [],
   "source": []
  }
 ],
 "metadata": {
  "kernelspec": {
   "display_name": "venv",
   "language": "python",
   "name": "python3"
  },
  "language_info": {
   "codemirror_mode": {
    "name": "ipython",
    "version": 3
   },
   "file_extension": ".py",
   "mimetype": "text/x-python",
   "name": "python",
   "nbconvert_exporter": "python",
   "pygments_lexer": "ipython3",
   "version": "3.9.0"
  },
  "orig_nbformat": 4
 },
 "nbformat": 4,
 "nbformat_minor": 2
}
